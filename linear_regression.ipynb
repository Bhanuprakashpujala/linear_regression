{
 "cells": [
  {
   "cell_type": "code",
   "execution_count": 93,
   "id": "fac58d12",
   "metadata": {},
   "outputs": [],
   "source": [
    "# importing necessary libraries\n",
    "import pandas as pd\n",
    "import numpy as np\n",
    "import seaborn as sns\n",
    "import matplotlib.pyplot as plt"
   ]
  },
  {
   "cell_type": "code",
   "execution_count": 141,
   "id": "bcaefa49",
   "metadata": {},
   "outputs": [],
   "source": [
    "# loading data\n",
    "data = sns.load_dataset('tips')"
   ]
  },
  {
   "cell_type": "code",
   "execution_count": 95,
   "id": "1d062c6f",
   "metadata": {
    "scrolled": true
   },
   "outputs": [
    {
     "data": {
      "text/html": [
       "<div>\n",
       "<style scoped>\n",
       "    .dataframe tbody tr th:only-of-type {\n",
       "        vertical-align: middle;\n",
       "    }\n",
       "\n",
       "    .dataframe tbody tr th {\n",
       "        vertical-align: top;\n",
       "    }\n",
       "\n",
       "    .dataframe thead th {\n",
       "        text-align: right;\n",
       "    }\n",
       "</style>\n",
       "<table border=\"1\" class=\"dataframe\">\n",
       "  <thead>\n",
       "    <tr style=\"text-align: right;\">\n",
       "      <th></th>\n",
       "      <th>total_bill</th>\n",
       "      <th>tip</th>\n",
       "      <th>sex</th>\n",
       "      <th>smoker</th>\n",
       "      <th>day</th>\n",
       "      <th>time</th>\n",
       "      <th>size</th>\n",
       "    </tr>\n",
       "  </thead>\n",
       "  <tbody>\n",
       "    <tr>\n",
       "      <th>0</th>\n",
       "      <td>16.99</td>\n",
       "      <td>1.01</td>\n",
       "      <td>Female</td>\n",
       "      <td>No</td>\n",
       "      <td>Sun</td>\n",
       "      <td>Dinner</td>\n",
       "      <td>2</td>\n",
       "    </tr>\n",
       "    <tr>\n",
       "      <th>1</th>\n",
       "      <td>10.34</td>\n",
       "      <td>1.66</td>\n",
       "      <td>Male</td>\n",
       "      <td>No</td>\n",
       "      <td>Sun</td>\n",
       "      <td>Dinner</td>\n",
       "      <td>3</td>\n",
       "    </tr>\n",
       "    <tr>\n",
       "      <th>2</th>\n",
       "      <td>21.01</td>\n",
       "      <td>3.50</td>\n",
       "      <td>Male</td>\n",
       "      <td>No</td>\n",
       "      <td>Sun</td>\n",
       "      <td>Dinner</td>\n",
       "      <td>3</td>\n",
       "    </tr>\n",
       "    <tr>\n",
       "      <th>3</th>\n",
       "      <td>23.68</td>\n",
       "      <td>3.31</td>\n",
       "      <td>Male</td>\n",
       "      <td>No</td>\n",
       "      <td>Sun</td>\n",
       "      <td>Dinner</td>\n",
       "      <td>2</td>\n",
       "    </tr>\n",
       "    <tr>\n",
       "      <th>4</th>\n",
       "      <td>24.59</td>\n",
       "      <td>3.61</td>\n",
       "      <td>Female</td>\n",
       "      <td>No</td>\n",
       "      <td>Sun</td>\n",
       "      <td>Dinner</td>\n",
       "      <td>4</td>\n",
       "    </tr>\n",
       "    <tr>\n",
       "      <th>...</th>\n",
       "      <td>...</td>\n",
       "      <td>...</td>\n",
       "      <td>...</td>\n",
       "      <td>...</td>\n",
       "      <td>...</td>\n",
       "      <td>...</td>\n",
       "      <td>...</td>\n",
       "    </tr>\n",
       "    <tr>\n",
       "      <th>239</th>\n",
       "      <td>29.03</td>\n",
       "      <td>5.92</td>\n",
       "      <td>Male</td>\n",
       "      <td>No</td>\n",
       "      <td>Sat</td>\n",
       "      <td>Dinner</td>\n",
       "      <td>3</td>\n",
       "    </tr>\n",
       "    <tr>\n",
       "      <th>240</th>\n",
       "      <td>27.18</td>\n",
       "      <td>2.00</td>\n",
       "      <td>Female</td>\n",
       "      <td>Yes</td>\n",
       "      <td>Sat</td>\n",
       "      <td>Dinner</td>\n",
       "      <td>2</td>\n",
       "    </tr>\n",
       "    <tr>\n",
       "      <th>241</th>\n",
       "      <td>22.67</td>\n",
       "      <td>2.00</td>\n",
       "      <td>Male</td>\n",
       "      <td>Yes</td>\n",
       "      <td>Sat</td>\n",
       "      <td>Dinner</td>\n",
       "      <td>2</td>\n",
       "    </tr>\n",
       "    <tr>\n",
       "      <th>242</th>\n",
       "      <td>17.82</td>\n",
       "      <td>1.75</td>\n",
       "      <td>Male</td>\n",
       "      <td>No</td>\n",
       "      <td>Sat</td>\n",
       "      <td>Dinner</td>\n",
       "      <td>2</td>\n",
       "    </tr>\n",
       "    <tr>\n",
       "      <th>243</th>\n",
       "      <td>18.78</td>\n",
       "      <td>3.00</td>\n",
       "      <td>Female</td>\n",
       "      <td>No</td>\n",
       "      <td>Thur</td>\n",
       "      <td>Dinner</td>\n",
       "      <td>2</td>\n",
       "    </tr>\n",
       "  </tbody>\n",
       "</table>\n",
       "<p>244 rows × 7 columns</p>\n",
       "</div>"
      ],
      "text/plain": [
       "     total_bill   tip     sex smoker   day    time  size\n",
       "0         16.99  1.01  Female     No   Sun  Dinner     2\n",
       "1         10.34  1.66    Male     No   Sun  Dinner     3\n",
       "2         21.01  3.50    Male     No   Sun  Dinner     3\n",
       "3         23.68  3.31    Male     No   Sun  Dinner     2\n",
       "4         24.59  3.61  Female     No   Sun  Dinner     4\n",
       "..          ...   ...     ...    ...   ...     ...   ...\n",
       "239       29.03  5.92    Male     No   Sat  Dinner     3\n",
       "240       27.18  2.00  Female    Yes   Sat  Dinner     2\n",
       "241       22.67  2.00    Male    Yes   Sat  Dinner     2\n",
       "242       17.82  1.75    Male     No   Sat  Dinner     2\n",
       "243       18.78  3.00  Female     No  Thur  Dinner     2\n",
       "\n",
       "[244 rows x 7 columns]"
      ]
     },
     "execution_count": 95,
     "metadata": {},
     "output_type": "execute_result"
    }
   ],
   "source": [
    "data"
   ]
  },
  {
   "cell_type": "code",
   "execution_count": 96,
   "id": "913406a5",
   "metadata": {},
   "outputs": [
    {
     "name": "stdout",
     "output_type": "stream",
     "text": [
      "<class 'pandas.core.frame.DataFrame'>\n",
      "RangeIndex: 244 entries, 0 to 243\n",
      "Data columns (total 7 columns):\n",
      " #   Column      Non-Null Count  Dtype   \n",
      "---  ------      --------------  -----   \n",
      " 0   total_bill  244 non-null    float64 \n",
      " 1   tip         244 non-null    float64 \n",
      " 2   sex         244 non-null    category\n",
      " 3   smoker      244 non-null    category\n",
      " 4   day         244 non-null    category\n",
      " 5   time        244 non-null    category\n",
      " 6   size        244 non-null    int64   \n",
      "dtypes: category(4), float64(2), int64(1)\n",
      "memory usage: 7.4 KB\n"
     ]
    }
   ],
   "source": [
    "data.info()"
   ]
  },
  {
   "cell_type": "code",
   "execution_count": 98,
   "id": "b601ab8f",
   "metadata": {},
   "outputs": [],
   "source": [
    "# The size is not an continuos column need to convert into categorical \n",
    "data['size']=data['size'].astype('category')"
   ]
  },
  {
   "cell_type": "code",
   "execution_count": 99,
   "id": "8020865c",
   "metadata": {},
   "outputs": [
    {
     "data": {
      "image/png": "[encoded data removed]",
      "text/plain": [
       "<Figure size 640x480 with 1 Axes>"
      ]
     },
     "metadata": {},
     "output_type": "display_data"
    }
   ],
   "source": [
    "#visually checking for outliers\n",
    "data.boxplot()\n",
    "plt.show()"
   ]
  },
  {
   "cell_type": "code",
   "execution_count": 100,
   "id": "0c45ab52",
   "metadata": {},
   "outputs": [
    {
     "data": {
      "text/plain": [
       "1.1332130376158205"
      ]
     },
     "execution_count": 100,
     "metadata": {},
     "output_type": "execute_result"
    }
   ],
   "source": [
    "#checking the skewness\n",
    "data['total_bill'].skew()"
   ]
  },
  {
   "cell_type": "code",
   "execution_count": 101,
   "id": "5a24032b",
   "metadata": {},
   "outputs": [
    {
     "data": {
      "image/png": "[encoded data removed]",
      "text/plain": [
       "<Figure size 640x480 with 1 Axes>"
      ]
     },
     "metadata": {},
     "output_type": "display_data"
    }
   ],
   "source": [
    "sns.histplot(data[['total_bill']],kde=True)\n",
    "plt.show()"
   ]
  },
  {
   "cell_type": "code",
   "execution_count": 102,
   "id": "d69e8ca4",
   "metadata": {},
   "outputs": [
    {
     "data": {
      "text/plain": [
       "9"
      ]
     },
     "execution_count": 102,
     "metadata": {},
     "output_type": "execute_result"
    }
   ],
   "source": [
    "#finding outliers\n",
    "def find_outliers_IQR(data):\n",
    "    q1=data.quantile(0.25)\n",
    "    q3=data.quantile(0.75)\n",
    "    IQR=q3-q1\n",
    "    outliers = data[((data<(q1-1.5*IQR)) | (data>(q3+1.5*IQR)))]\n",
    "    return len(outliers)\n",
    "find_outliers_IQR(data['total_bill'])"
   ]
  },
  {
   "cell_type": "code",
   "execution_count": 103,
   "id": "09fc47db",
   "metadata": {},
   "outputs": [],
   "source": [
    "# capping the outliers "
   ]
  },
  {
   "cell_type": "code",
   "execution_count": 104,
   "id": "e0ff156c",
   "metadata": {},
   "outputs": [
    {
     "name": "stdout",
     "output_type": "stream",
     "text": [
      "sucess\n"
     ]
    }
   ],
   "source": [
    "# capping \n",
    "columns =['total_bill']\n",
    "for i in columns:\n",
    "    Q1=data[i].quantile(0.25)\n",
    "    Q3 =data[i].quantile(0.75)\n",
    "    IQR = Q3-Q1\n",
    "    low = Q1 - (1.5 * IQR)\n",
    "    up = Q3 + (1.5 * IQR)\n",
    "    data[i] = data[i].apply(lambda x : low if x < low  else  up  if x > up else x)\n",
    "    print(\"sucess\")\n",
    "    "
   ]
  },
  {
   "cell_type": "code",
   "execution_count": 105,
   "id": "ab9f0d52",
   "metadata": {},
   "outputs": [
    {
     "data": {
      "image/png": "[encoded data removed]",
      "text/plain": [
       "<Figure size 640x480 with 1 Axes>"
      ]
     },
     "metadata": {},
     "output_type": "display_data"
    }
   ],
   "source": [
    "# after capping checkinf for outliers\n",
    "data.boxplot()\n",
    "plt.show()"
   ]
  },
  {
   "cell_type": "code",
   "execution_count": 106,
   "id": "f6bdafbc",
   "metadata": {},
   "outputs": [
    {
     "data": {
      "text/plain": [
       "0"
      ]
     },
     "execution_count": 106,
     "metadata": {},
     "output_type": "execute_result"
    }
   ],
   "source": [
    "def find_outliers_IQR(data):\n",
    "    q1=data.quantile(0.25)\n",
    "    q3=data.quantile(0.75)\n",
    "    IQR=q3-q1\n",
    "    outliers = data[((data<(q1-1.5*IQR)) | (data>(q3+1.5*IQR)))]\n",
    "    return len(outliers)\n",
    "find_outliers_IQR(data['total_bill'])"
   ]
  },
  {
   "cell_type": "code",
   "execution_count": 107,
   "id": "a93ab346",
   "metadata": {},
   "outputs": [],
   "source": [
    "# tip is the targate column so not dealiong with outliers\n"
   ]
  },
  {
   "cell_type": "code",
   "execution_count": 108,
   "id": "39abfcd1",
   "metadata": {},
   "outputs": [],
   "source": [
    "x = data[['total_bill','sex', 'smoker', 'day', 'time', 'size']]\n",
    "y = data['tip']\n"
   ]
  },
  {
   "cell_type": "code",
   "execution_count": 114,
   "id": "19a22028",
   "metadata": {},
   "outputs": [],
   "source": [
    "import sklearn\n",
    "from sklearn.model_selection import train_test_split\n",
    "from sklearn.preprocessing import OrdinalEncoder\n",
    "from sklearn.preprocessing import OneHotEncoder\n",
    "from sklearn.preprocessing import RobustScaler\n",
    "from sklearn.preprocessing import PowerTransformer\n",
    "from sklearn.compose import ColumnTransformer\n",
    "from sklearn.pipeline import Pipeline"
   ]
  },
  {
   "cell_type": "code",
   "execution_count": 115,
   "id": "52136518",
   "metadata": {},
   "outputs": [],
   "source": [
    "contCol=[\"total_bill\"]\n",
    "ordcatcol=[\"size\",'smoker']\n",
    "norcatcol=[\"sex\",\"time\",\"day\"]\n",
    "target = ['tip']"
   ]
  },
  {
   "cell_type": "code",
   "execution_count": 117,
   "id": "64416921",
   "metadata": {},
   "outputs": [],
   "source": [
    "# creating pipeline for continues columns\n",
    "continues_pipeline = Pipeline(steps = [\n",
    "    ('Roboust_scalar',RobustScaler()),\n",
    "    ('Yoe_johnson',PowerTransformer())])\n",
    "# creating pipeline for categorical columns\n",
    "categorical_nominal_pipeline = Pipeline([\n",
    "    ('ordinal',OneHotEncoder(drop = 'first'))\n",
    "])\n",
    "categorical_ordinal_pipeline = Pipeline(steps = [\n",
    "    ('ordinal',OrdinalEncoder())])"
   ]
  },
  {
   "cell_type": "code",
   "execution_count": 118,
   "id": "1186db00",
   "metadata": {},
   "outputs": [
    {
     "data": {
      "text/html": [
       "<style>#sk-9a28b3e0-2e5a-4470-b3a8-3d55757caa64 {color: black;background-color: white;}#sk-9a28b3e0-2e5a-4470-b3a8-3d55757caa64 pre{padding: 0;}#sk-9a28b3e0-2e5a-4470-b3a8-3d55757caa64 div.sk-toggleable {background-color: white;}#sk-9a28b3e0-2e5a-4470-b3a8-3d55757caa64 label.sk-toggleable__label {cursor: pointer;display: block;width: 100%;margin-bottom: 0;padding: 0.3em;box-sizing: border-box;text-align: center;}#sk-9a28b3e0-2e5a-4470-b3a8-3d55757caa64 label.sk-toggleable__label-arrow:before {content: \"▸\";float: left;margin-right: 0.25em;color: #696969;}#sk-9a28b3e0-2e5a-4470-b3a8-3d55757caa64 label.sk-toggleable__label-arrow:hover:before {color: black;}#sk-9a28b3e0-2e5a-4470-b3a8-3d55757caa64 div.sk-estimator:hover label.sk-toggleable__label-arrow:before {color: black;}#sk-9a28b3e0-2e5a-4470-b3a8-3d55757caa64 div.sk-toggleable__content {max-height: 0;max-width: 0;overflow: hidden;text-align: left;background-color: #f0f8ff;}#sk-9a28b3e0-2e5a-4470-b3a8-3d55757caa64 div.sk-toggleable__content pre {margin: 0.2em;color: black;border-radius: 0.25em;background-color: #f0f8ff;}#sk-9a28b3e0-2e5a-4470-b3a8-3d55757caa64 input.sk-toggleable__control:checked~div.sk-toggleable__content {max-height: 200px;max-width: 100%;overflow: auto;}#sk-9a28b3e0-2e5a-4470-b3a8-3d55757caa64 input.sk-toggleable__control:checked~label.sk-toggleable__label-arrow:before {content: \"▾\";}#sk-9a28b3e0-2e5a-4470-b3a8-3d55757caa64 div.sk-estimator input.sk-toggleable__control:checked~label.sk-toggleable__label {background-color: #d4ebff;}#sk-9a28b3e0-2e5a-4470-b3a8-3d55757caa64 div.sk-label input.sk-toggleable__control:checked~label.sk-toggleable__label {background-color: #d4ebff;}#sk-9a28b3e0-2e5a-4470-b3a8-3d55757caa64 input.sk-hidden--visually {border: 0;clip: rect(1px 1px 1px 1px);clip: rect(1px, 1px, 1px, 1px);height: 1px;margin: -1px;overflow: hidden;padding: 0;position: absolute;width: 1px;}#sk-9a28b3e0-2e5a-4470-b3a8-3d55757caa64 div.sk-estimator {font-family: monospace;background-color: #f0f8ff;border: 1px dotted black;border-radius: 0.25em;box-sizing: border-box;margin-bottom: 0.5em;}#sk-9a28b3e0-2e5a-4470-b3a8-3d55757caa64 div.sk-estimator:hover {background-color: #d4ebff;}#sk-9a28b3e0-2e5a-4470-b3a8-3d55757caa64 div.sk-parallel-item::after {content: \"\";width: 100%;border-bottom: 1px solid gray;flex-grow: 1;}#sk-9a28b3e0-2e5a-4470-b3a8-3d55757caa64 div.sk-label:hover label.sk-toggleable__label {background-color: #d4ebff;}#sk-9a28b3e0-2e5a-4470-b3a8-3d55757caa64 div.sk-serial::before {content: \"\";position: absolute;border-left: 1px solid gray;box-sizing: border-box;top: 2em;bottom: 0;left: 50%;}#sk-9a28b3e0-2e5a-4470-b3a8-3d55757caa64 div.sk-serial {display: flex;flex-direction: column;align-items: center;background-color: white;padding-right: 0.2em;padding-left: 0.2em;}#sk-9a28b3e0-2e5a-4470-b3a8-3d55757caa64 div.sk-item {z-index: 1;}#sk-9a28b3e0-2e5a-4470-b3a8-3d55757caa64 div.sk-parallel {display: flex;align-items: stretch;justify-content: center;background-color: white;}#sk-9a28b3e0-2e5a-4470-b3a8-3d55757caa64 div.sk-parallel::before {content: \"\";position: absolute;border-left: 1px solid gray;box-sizing: border-box;top: 2em;bottom: 0;left: 50%;}#sk-9a28b3e0-2e5a-4470-b3a8-3d55757caa64 div.sk-parallel-item {display: flex;flex-direction: column;position: relative;background-color: white;}#sk-9a28b3e0-2e5a-4470-b3a8-3d55757caa64 div.sk-parallel-item:first-child::after {align-self: flex-end;width: 50%;}#sk-9a28b3e0-2e5a-4470-b3a8-3d55757caa64 div.sk-parallel-item:last-child::after {align-self: flex-start;width: 50%;}#sk-9a28b3e0-2e5a-4470-b3a8-3d55757caa64 div.sk-parallel-item:only-child::after {width: 0;}#sk-9a28b3e0-2e5a-4470-b3a8-3d55757caa64 div.sk-dashed-wrapped {border: 1px dashed gray;margin: 0 0.4em 0.5em 0.4em;box-sizing: border-box;padding-bottom: 0.4em;background-color: white;position: relative;}#sk-9a28b3e0-2e5a-4470-b3a8-3d55757caa64 div.sk-label label {font-family: monospace;font-weight: bold;background-color: white;display: inline-block;line-height: 1.2em;}#sk-9a28b3e0-2e5a-4470-b3a8-3d55757caa64 div.sk-label-container {position: relative;z-index: 2;text-align: center;}#sk-9a28b3e0-2e5a-4470-b3a8-3d55757caa64 div.sk-container {/* jupyter's `normalize.less` sets `[hidden] { display: none; }` but bootstrap.min.css set `[hidden] { display: none !important; }` so we also need the `!important` here to be able to override the default hidden behavior on the sphinx rendered scikit-learn.org. See: https://github.com/scikit-learn/scikit-learn/issues/21755 */display: inline-block !important;position: relative;}#sk-9a28b3e0-2e5a-4470-b3a8-3d55757caa64 div.sk-text-repr-fallback {display: none;}</style><div id=\"sk-9a28b3e0-2e5a-4470-b3a8-3d55757caa64\" class=\"sk-top-container\"><div class=\"sk-text-repr-fallback\"><pre>Pipeline(steps=[(&#x27;Roboust_scalar&#x27;, RobustScaler()),\n",
       "                (&#x27;Yoe_johnson&#x27;, PowerTransformer())])</pre><b>Please rerun this cell to show the HTML repr or trust the notebook.</b></div><div class=\"sk-container\" hidden><div class=\"sk-item sk-dashed-wrapped\"><div class=\"sk-label-container\"><div class=\"sk-label sk-toggleable\"><input class=\"sk-toggleable__control sk-hidden--visually\" id=\"26f9d0fc-9fe3-4e54-aeb7-66029fb1e0b2\" type=\"checkbox\" ><label for=\"26f9d0fc-9fe3-4e54-aeb7-66029fb1e0b2\" class=\"sk-toggleable__label sk-toggleable__label-arrow\">Pipeline</label><div class=\"sk-toggleable__content\"><pre>Pipeline(steps=[(&#x27;Roboust_scalar&#x27;, RobustScaler()),\n",
       "                (&#x27;Yoe_johnson&#x27;, PowerTransformer())])</pre></div></div></div><div class=\"sk-serial\"><div class=\"sk-item\"><div class=\"sk-estimator sk-toggleable\"><input class=\"sk-toggleable__control sk-hidden--visually\" id=\"f10225dc-c8f1-40de-a9b5-14c5aa48cf6b\" type=\"checkbox\" ><label for=\"f10225dc-c8f1-40de-a9b5-14c5aa48cf6b\" class=\"sk-toggleable__label sk-toggleable__label-arrow\">RobustScaler</label><div class=\"sk-toggleable__content\"><pre>RobustScaler()</pre></div></div></div><div class=\"sk-item\"><div class=\"sk-estimator sk-toggleable\"><input class=\"sk-toggleable__control sk-hidden--visually\" id=\"20e447a4-7a71-46a3-abe1-d9f1096f1212\" type=\"checkbox\" ><label for=\"20e447a4-7a71-46a3-abe1-d9f1096f1212\" class=\"sk-toggleable__label sk-toggleable__label-arrow\">PowerTransformer</label><div class=\"sk-toggleable__content\"><pre>PowerTransformer()</pre></div></div></div></div></div></div></div>"
      ],
      "text/plain": [
       "Pipeline(steps=[('Roboust_scalar', RobustScaler()),\n",
       "                ('Yoe_johnson', PowerTransformer())])"
      ]
     },
     "metadata": {},
     "output_type": "display_data"
    }
   ],
   "source": [
    "display(continues_pipeline)"
   ]
  },
  {
   "cell_type": "code",
   "execution_count": 119,
   "id": "410f0d2d",
   "metadata": {},
   "outputs": [
    {
     "data": {
      "text/html": [
       "<style>#sk-0109ed94-6fc6-4735-8464-137d27f177d4 {color: black;background-color: white;}#sk-0109ed94-6fc6-4735-8464-137d27f177d4 pre{padding: 0;}#sk-0109ed94-6fc6-4735-8464-137d27f177d4 div.sk-toggleable {background-color: white;}#sk-0109ed94-6fc6-4735-8464-137d27f177d4 label.sk-toggleable__label {cursor: pointer;display: block;width: 100%;margin-bottom: 0;padding: 0.3em;box-sizing: border-box;text-align: center;}#sk-0109ed94-6fc6-4735-8464-137d27f177d4 label.sk-toggleable__label-arrow:before {content: \"▸\";float: left;margin-right: 0.25em;color: #696969;}#sk-0109ed94-6fc6-4735-8464-137d27f177d4 label.sk-toggleable__label-arrow:hover:before {color: black;}#sk-0109ed94-6fc6-4735-8464-137d27f177d4 div.sk-estimator:hover label.sk-toggleable__label-arrow:before {color: black;}#sk-0109ed94-6fc6-4735-8464-137d27f177d4 div.sk-toggleable__content {max-height: 0;max-width: 0;overflow: hidden;text-align: left;background-color: #f0f8ff;}#sk-0109ed94-6fc6-4735-8464-137d27f177d4 div.sk-toggleable__content pre {margin: 0.2em;color: black;border-radius: 0.25em;background-color: #f0f8ff;}#sk-0109ed94-6fc6-4735-8464-137d27f177d4 input.sk-toggleable__control:checked~div.sk-toggleable__content {max-height: 200px;max-width: 100%;overflow: auto;}#sk-0109ed94-6fc6-4735-8464-137d27f177d4 input.sk-toggleable__control:checked~label.sk-toggleable__label-arrow:before {content: \"▾\";}#sk-0109ed94-6fc6-4735-8464-137d27f177d4 div.sk-estimator input.sk-toggleable__control:checked~label.sk-toggleable__label {background-color: #d4ebff;}#sk-0109ed94-6fc6-4735-8464-137d27f177d4 div.sk-label input.sk-toggleable__control:checked~label.sk-toggleable__label {background-color: #d4ebff;}#sk-0109ed94-6fc6-4735-8464-137d27f177d4 input.sk-hidden--visually {border: 0;clip: rect(1px 1px 1px 1px);clip: rect(1px, 1px, 1px, 1px);height: 1px;margin: -1px;overflow: hidden;padding: 0;position: absolute;width: 1px;}#sk-0109ed94-6fc6-4735-8464-137d27f177d4 div.sk-estimator {font-family: monospace;background-color: #f0f8ff;border: 1px dotted black;border-radius: 0.25em;box-sizing: border-box;margin-bottom: 0.5em;}#sk-0109ed94-6fc6-4735-8464-137d27f177d4 div.sk-estimator:hover {background-color: #d4ebff;}#sk-0109ed94-6fc6-4735-8464-137d27f177d4 div.sk-parallel-item::after {content: \"\";width: 100%;border-bottom: 1px solid gray;flex-grow: 1;}#sk-0109ed94-6fc6-4735-8464-137d27f177d4 div.sk-label:hover label.sk-toggleable__label {background-color: #d4ebff;}#sk-0109ed94-6fc6-4735-8464-137d27f177d4 div.sk-serial::before {content: \"\";position: absolute;border-left: 1px solid gray;box-sizing: border-box;top: 2em;bottom: 0;left: 50%;}#sk-0109ed94-6fc6-4735-8464-137d27f177d4 div.sk-serial {display: flex;flex-direction: column;align-items: center;background-color: white;padding-right: 0.2em;padding-left: 0.2em;}#sk-0109ed94-6fc6-4735-8464-137d27f177d4 div.sk-item {z-index: 1;}#sk-0109ed94-6fc6-4735-8464-137d27f177d4 div.sk-parallel {display: flex;align-items: stretch;justify-content: center;background-color: white;}#sk-0109ed94-6fc6-4735-8464-137d27f177d4 div.sk-parallel::before {content: \"\";position: absolute;border-left: 1px solid gray;box-sizing: border-box;top: 2em;bottom: 0;left: 50%;}#sk-0109ed94-6fc6-4735-8464-137d27f177d4 div.sk-parallel-item {display: flex;flex-direction: column;position: relative;background-color: white;}#sk-0109ed94-6fc6-4735-8464-137d27f177d4 div.sk-parallel-item:first-child::after {align-self: flex-end;width: 50%;}#sk-0109ed94-6fc6-4735-8464-137d27f177d4 div.sk-parallel-item:last-child::after {align-self: flex-start;width: 50%;}#sk-0109ed94-6fc6-4735-8464-137d27f177d4 div.sk-parallel-item:only-child::after {width: 0;}#sk-0109ed94-6fc6-4735-8464-137d27f177d4 div.sk-dashed-wrapped {border: 1px dashed gray;margin: 0 0.4em 0.5em 0.4em;box-sizing: border-box;padding-bottom: 0.4em;background-color: white;position: relative;}#sk-0109ed94-6fc6-4735-8464-137d27f177d4 div.sk-label label {font-family: monospace;font-weight: bold;background-color: white;display: inline-block;line-height: 1.2em;}#sk-0109ed94-6fc6-4735-8464-137d27f177d4 div.sk-label-container {position: relative;z-index: 2;text-align: center;}#sk-0109ed94-6fc6-4735-8464-137d27f177d4 div.sk-container {/* jupyter's `normalize.less` sets `[hidden] { display: none; }` but bootstrap.min.css set `[hidden] { display: none !important; }` so we also need the `!important` here to be able to override the default hidden behavior on the sphinx rendered scikit-learn.org. See: https://github.com/scikit-learn/scikit-learn/issues/21755 */display: inline-block !important;position: relative;}#sk-0109ed94-6fc6-4735-8464-137d27f177d4 div.sk-text-repr-fallback {display: none;}</style><div id=\"sk-0109ed94-6fc6-4735-8464-137d27f177d4\" class=\"sk-top-container\"><div class=\"sk-text-repr-fallback\"><pre>Pipeline(steps=[(&#x27;ordinal&#x27;, OneHotEncoder(drop=&#x27;first&#x27;))])</pre><b>Please rerun this cell to show the HTML repr or trust the notebook.</b></div><div class=\"sk-container\" hidden><div class=\"sk-item sk-dashed-wrapped\"><div class=\"sk-label-container\"><div class=\"sk-label sk-toggleable\"><input class=\"sk-toggleable__control sk-hidden--visually\" id=\"d65eeeb3-9736-48a2-94d1-041e02d01cc5\" type=\"checkbox\" ><label for=\"d65eeeb3-9736-48a2-94d1-041e02d01cc5\" class=\"sk-toggleable__label sk-toggleable__label-arrow\">Pipeline</label><div class=\"sk-toggleable__content\"><pre>Pipeline(steps=[(&#x27;ordinal&#x27;, OneHotEncoder(drop=&#x27;first&#x27;))])</pre></div></div></div><div class=\"sk-serial\"><div class=\"sk-item\"><div class=\"sk-estimator sk-toggleable\"><input class=\"sk-toggleable__control sk-hidden--visually\" id=\"172da2ee-1648-4e83-9e40-25162a54281b\" type=\"checkbox\" ><label for=\"172da2ee-1648-4e83-9e40-25162a54281b\" class=\"sk-toggleable__label sk-toggleable__label-arrow\">OneHotEncoder</label><div class=\"sk-toggleable__content\"><pre>OneHotEncoder(drop=&#x27;first&#x27;)</pre></div></div></div></div></div></div></div>"
      ],
      "text/plain": [
       "Pipeline(steps=[('ordinal', OneHotEncoder(drop='first'))])"
      ]
     },
     "metadata": {},
     "output_type": "display_data"
    }
   ],
   "source": [
    "display(categorical_nominal_pipeline)"
   ]
  },
  {
   "cell_type": "code",
   "execution_count": 120,
   "id": "12c7a76e",
   "metadata": {},
   "outputs": [],
   "source": [
    "column_transformation = ColumnTransformer(transformers=[\n",
    "    ('contnues',continues_pipeline,contCol),\n",
    "    ('categorical_nominal',categorical_nominal_pipeline,norcatcol),\n",
    "    ('categorical_ordinal',categorical_ordinal_pipeline,ordcatcol)],remainder = 'drop', n_jobs=-1\n",
    "    )"
   ]
  },
  {
   "cell_type": "code",
   "execution_count": 121,
   "id": "d8fca40a",
   "metadata": {},
   "outputs": [
    {
     "data": {
      "text/html": [
       "<style>#sk-1cc73064-4400-4c86-85eb-78e349439373 {color: black;background-color: white;}#sk-1cc73064-4400-4c86-85eb-78e349439373 pre{padding: 0;}#sk-1cc73064-4400-4c86-85eb-78e349439373 div.sk-toggleable {background-color: white;}#sk-1cc73064-4400-4c86-85eb-78e349439373 label.sk-toggleable__label {cursor: pointer;display: block;width: 100%;margin-bottom: 0;padding: 0.3em;box-sizing: border-box;text-align: center;}#sk-1cc73064-4400-4c86-85eb-78e349439373 label.sk-toggleable__label-arrow:before {content: \"▸\";float: left;margin-right: 0.25em;color: #696969;}#sk-1cc73064-4400-4c86-85eb-78e349439373 label.sk-toggleable__label-arrow:hover:before {color: black;}#sk-1cc73064-4400-4c86-85eb-78e349439373 div.sk-estimator:hover label.sk-toggleable__label-arrow:before {color: black;}#sk-1cc73064-4400-4c86-85eb-78e349439373 div.sk-toggleable__content {max-height: 0;max-width: 0;overflow: hidden;text-align: left;background-color: #f0f8ff;}#sk-1cc73064-4400-4c86-85eb-78e349439373 div.sk-toggleable__content pre {margin: 0.2em;color: black;border-radius: 0.25em;background-color: #f0f8ff;}#sk-1cc73064-4400-4c86-85eb-78e349439373 input.sk-toggleable__control:checked~div.sk-toggleable__content {max-height: 200px;max-width: 100%;overflow: auto;}#sk-1cc73064-4400-4c86-85eb-78e349439373 input.sk-toggleable__control:checked~label.sk-toggleable__label-arrow:before {content: \"▾\";}#sk-1cc73064-4400-4c86-85eb-78e349439373 div.sk-estimator input.sk-toggleable__control:checked~label.sk-toggleable__label {background-color: #d4ebff;}#sk-1cc73064-4400-4c86-85eb-78e349439373 div.sk-label input.sk-toggleable__control:checked~label.sk-toggleable__label {background-color: #d4ebff;}#sk-1cc73064-4400-4c86-85eb-78e349439373 input.sk-hidden--visually {border: 0;clip: rect(1px 1px 1px 1px);clip: rect(1px, 1px, 1px, 1px);height: 1px;margin: -1px;overflow: hidden;padding: 0;position: absolute;width: 1px;}#sk-1cc73064-4400-4c86-85eb-78e349439373 div.sk-estimator {font-family: monospace;background-color: #f0f8ff;border: 1px dotted black;border-radius: 0.25em;box-sizing: border-box;margin-bottom: 0.5em;}#sk-1cc73064-4400-4c86-85eb-78e349439373 div.sk-estimator:hover {background-color: #d4ebff;}#sk-1cc73064-4400-4c86-85eb-78e349439373 div.sk-parallel-item::after {content: \"\";width: 100%;border-bottom: 1px solid gray;flex-grow: 1;}#sk-1cc73064-4400-4c86-85eb-78e349439373 div.sk-label:hover label.sk-toggleable__label {background-color: #d4ebff;}#sk-1cc73064-4400-4c86-85eb-78e349439373 div.sk-serial::before {content: \"\";position: absolute;border-left: 1px solid gray;box-sizing: border-box;top: 2em;bottom: 0;left: 50%;}#sk-1cc73064-4400-4c86-85eb-78e349439373 div.sk-serial {display: flex;flex-direction: column;align-items: center;background-color: white;padding-right: 0.2em;padding-left: 0.2em;}#sk-1cc73064-4400-4c86-85eb-78e349439373 div.sk-item {z-index: 1;}#sk-1cc73064-4400-4c86-85eb-78e349439373 div.sk-parallel {display: flex;align-items: stretch;justify-content: center;background-color: white;}#sk-1cc73064-4400-4c86-85eb-78e349439373 div.sk-parallel::before {content: \"\";position: absolute;border-left: 1px solid gray;box-sizing: border-box;top: 2em;bottom: 0;left: 50%;}#sk-1cc73064-4400-4c86-85eb-78e349439373 div.sk-parallel-item {display: flex;flex-direction: column;position: relative;background-color: white;}#sk-1cc73064-4400-4c86-85eb-78e349439373 div.sk-parallel-item:first-child::after {align-self: flex-end;width: 50%;}#sk-1cc73064-4400-4c86-85eb-78e349439373 div.sk-parallel-item:last-child::after {align-self: flex-start;width: 50%;}#sk-1cc73064-4400-4c86-85eb-78e349439373 div.sk-parallel-item:only-child::after {width: 0;}#sk-1cc73064-4400-4c86-85eb-78e349439373 div.sk-dashed-wrapped {border: 1px dashed gray;margin: 0 0.4em 0.5em 0.4em;box-sizing: border-box;padding-bottom: 0.4em;background-color: white;position: relative;}#sk-1cc73064-4400-4c86-85eb-78e349439373 div.sk-label label {font-family: monospace;font-weight: bold;background-color: white;display: inline-block;line-height: 1.2em;}#sk-1cc73064-4400-4c86-85eb-78e349439373 div.sk-label-container {position: relative;z-index: 2;text-align: center;}#sk-1cc73064-4400-4c86-85eb-78e349439373 div.sk-container {/* jupyter's `normalize.less` sets `[hidden] { display: none; }` but bootstrap.min.css set `[hidden] { display: none !important; }` so we also need the `!important` here to be able to override the default hidden behavior on the sphinx rendered scikit-learn.org. See: https://github.com/scikit-learn/scikit-learn/issues/21755 */display: inline-block !important;position: relative;}#sk-1cc73064-4400-4c86-85eb-78e349439373 div.sk-text-repr-fallback {display: none;}</style><div id=\"sk-1cc73064-4400-4c86-85eb-78e349439373\" class=\"sk-top-container\"><div class=\"sk-text-repr-fallback\"><pre>ColumnTransformer(n_jobs=-1,\n",
       "                  transformers=[(&#x27;contnues&#x27;,\n",
       "                                 Pipeline(steps=[(&#x27;Roboust_scalar&#x27;,\n",
       "                                                  RobustScaler()),\n",
       "                                                 (&#x27;Yoe_johnson&#x27;,\n",
       "                                                  PowerTransformer())]),\n",
       "                                 [&#x27;total_bill&#x27;]),\n",
       "                                (&#x27;categorical_nominal&#x27;,\n",
       "                                 Pipeline(steps=[(&#x27;ordinal&#x27;,\n",
       "                                                  OneHotEncoder(drop=&#x27;first&#x27;))]),\n",
       "                                 [&#x27;sex&#x27;, &#x27;time&#x27;, &#x27;day&#x27;]),\n",
       "                                (&#x27;categorical_ordinal&#x27;,\n",
       "                                 Pipeline(steps=[(&#x27;ordinal&#x27;,\n",
       "                                                  OrdinalEncoder())]),\n",
       "                                 [&#x27;size&#x27;, &#x27;smoker&#x27;])])</pre><b>Please rerun this cell to show the HTML repr or trust the notebook.</b></div><div class=\"sk-container\" hidden><div class=\"sk-item sk-dashed-wrapped\"><div class=\"sk-label-container\"><div class=\"sk-label sk-toggleable\"><input class=\"sk-toggleable__control sk-hidden--visually\" id=\"c3c7a760-d621-4e33-b3ee-28aadd0b89e1\" type=\"checkbox\" ><label for=\"c3c7a760-d621-4e33-b3ee-28aadd0b89e1\" class=\"sk-toggleable__label sk-toggleable__label-arrow\">ColumnTransformer</label><div class=\"sk-toggleable__content\"><pre>ColumnTransformer(n_jobs=-1,\n",
       "                  transformers=[(&#x27;contnues&#x27;,\n",
       "                                 Pipeline(steps=[(&#x27;Roboust_scalar&#x27;,\n",
       "                                                  RobustScaler()),\n",
       "                                                 (&#x27;Yoe_johnson&#x27;,\n",
       "                                                  PowerTransformer())]),\n",
       "                                 [&#x27;total_bill&#x27;]),\n",
       "                                (&#x27;categorical_nominal&#x27;,\n",
       "                                 Pipeline(steps=[(&#x27;ordinal&#x27;,\n",
       "                                                  OneHotEncoder(drop=&#x27;first&#x27;))]),\n",
       "                                 [&#x27;sex&#x27;, &#x27;time&#x27;, &#x27;day&#x27;]),\n",
       "                                (&#x27;categorical_ordinal&#x27;,\n",
       "                                 Pipeline(steps=[(&#x27;ordinal&#x27;,\n",
       "                                                  OrdinalEncoder())]),\n",
       "                                 [&#x27;size&#x27;, &#x27;smoker&#x27;])])</pre></div></div></div><div class=\"sk-parallel\"><div class=\"sk-parallel-item\"><div class=\"sk-item\"><div class=\"sk-label-container\"><div class=\"sk-label sk-toggleable\"><input class=\"sk-toggleable__control sk-hidden--visually\" id=\"579cd454-cc1a-489f-b5f3-0b743bb1bcf0\" type=\"checkbox\" ><label for=\"579cd454-cc1a-489f-b5f3-0b743bb1bcf0\" class=\"sk-toggleable__label sk-toggleable__label-arrow\">contnues</label><div class=\"sk-toggleable__content\"><pre>[&#x27;total_bill&#x27;]</pre></div></div></div><div class=\"sk-serial\"><div class=\"sk-item\"><div class=\"sk-serial\"><div class=\"sk-item\"><div class=\"sk-estimator sk-toggleable\"><input class=\"sk-toggleable__control sk-hidden--visually\" id=\"23435428-86bd-4b24-a6f1-3a7ad1c29166\" type=\"checkbox\" ><label for=\"23435428-86bd-4b24-a6f1-3a7ad1c29166\" class=\"sk-toggleable__label sk-toggleable__label-arrow\">RobustScaler</label><div class=\"sk-toggleable__content\"><pre>RobustScaler()</pre></div></div></div><div class=\"sk-item\"><div class=\"sk-estimator sk-toggleable\"><input class=\"sk-toggleable__control sk-hidden--visually\" id=\"23147cbb-6339-46b5-8781-2367a1fb16ff\" type=\"checkbox\" ><label for=\"23147cbb-6339-46b5-8781-2367a1fb16ff\" class=\"sk-toggleable__label sk-toggleable__label-arrow\">PowerTransformer</label><div class=\"sk-toggleable__content\"><pre>PowerTransformer()</pre></div></div></div></div></div></div></div></div><div class=\"sk-parallel-item\"><div class=\"sk-item\"><div class=\"sk-label-container\"><div class=\"sk-label sk-toggleable\"><input class=\"sk-toggleable__control sk-hidden--visually\" id=\"791469bd-ea07-49b2-a6dd-b2ecf41c0888\" type=\"checkbox\" ><label for=\"791469bd-ea07-49b2-a6dd-b2ecf41c0888\" class=\"sk-toggleable__label sk-toggleable__label-arrow\">categorical_nominal</label><div class=\"sk-toggleable__content\"><pre>[&#x27;sex&#x27;, &#x27;time&#x27;, &#x27;day&#x27;]</pre></div></div></div><div class=\"sk-serial\"><div class=\"sk-item\"><div class=\"sk-serial\"><div class=\"sk-item\"><div class=\"sk-estimator sk-toggleable\"><input class=\"sk-toggleable__control sk-hidden--visually\" id=\"ab3acfb9-3abe-4621-bc43-a4fd01227f45\" type=\"checkbox\" ><label for=\"ab3acfb9-3abe-4621-bc43-a4fd01227f45\" class=\"sk-toggleable__label sk-toggleable__label-arrow\">OneHotEncoder</label><div class=\"sk-toggleable__content\"><pre>OneHotEncoder(drop=&#x27;first&#x27;)</pre></div></div></div></div></div></div></div></div><div class=\"sk-parallel-item\"><div class=\"sk-item\"><div class=\"sk-label-container\"><div class=\"sk-label sk-toggleable\"><input class=\"sk-toggleable__control sk-hidden--visually\" id=\"0637b77b-2be3-4edc-a4f8-92cb8bd6f4c2\" type=\"checkbox\" ><label for=\"0637b77b-2be3-4edc-a4f8-92cb8bd6f4c2\" class=\"sk-toggleable__label sk-toggleable__label-arrow\">categorical_ordinal</label><div class=\"sk-toggleable__content\"><pre>[&#x27;size&#x27;, &#x27;smoker&#x27;]</pre></div></div></div><div class=\"sk-serial\"><div class=\"sk-item\"><div class=\"sk-serial\"><div class=\"sk-item\"><div class=\"sk-estimator sk-toggleable\"><input class=\"sk-toggleable__control sk-hidden--visually\" id=\"bd64eec8-b9da-43ab-a6f4-ebcfc922c951\" type=\"checkbox\" ><label for=\"bd64eec8-b9da-43ab-a6f4-ebcfc922c951\" class=\"sk-toggleable__label sk-toggleable__label-arrow\">OrdinalEncoder</label><div class=\"sk-toggleable__content\"><pre>OrdinalEncoder()</pre></div></div></div></div></div></div></div></div></div></div></div></div>"
      ],
      "text/plain": [
       "ColumnTransformer(n_jobs=-1,\n",
       "                  transformers=[('contnues',\n",
       "                                 Pipeline(steps=[('Roboust_scalar',\n",
       "                                                  RobustScaler()),\n",
       "                                                 ('Yoe_johnson',\n",
       "                                                  PowerTransformer())]),\n",
       "                                 ['total_bill']),\n",
       "                                ('categorical_nominal',\n",
       "                                 Pipeline(steps=[('ordinal',\n",
       "                                                  OneHotEncoder(drop='first'))]),\n",
       "                                 ['sex', 'time', 'day']),\n",
       "                                ('categorical_ordinal',\n",
       "                                 Pipeline(steps=[('ordinal',\n",
       "                                                  OrdinalEncoder())]),\n",
       "                                 ['size', 'smoker'])])"
      ]
     },
     "metadata": {},
     "output_type": "display_data"
    }
   ],
   "source": [
    "display(column_transformation)"
   ]
  },
  {
   "cell_type": "code",
   "execution_count": 122,
   "id": "62718314",
   "metadata": {},
   "outputs": [],
   "source": [
    "from sklearn.linear_model import LinearRegression"
   ]
  },
  {
   "cell_type": "code",
   "execution_count": 123,
   "id": "189cd539",
   "metadata": {},
   "outputs": [],
   "source": [
    "linear = LinearRegression()"
   ]
  },
  {
   "cell_type": "code",
   "execution_count": 124,
   "id": "9840fb2c",
   "metadata": {},
   "outputs": [],
   "source": [
    "linear_pipeline = Pipeline(steps = [\n",
    "    ('column_transformation',column_transformation),\n",
    "    ('linear_regressor',linear)\n",
    "])"
   ]
  },
  {
   "cell_type": "code",
   "execution_count": 126,
   "id": "676bdf35",
   "metadata": {},
   "outputs": [
    {
     "data": {
      "text/html": [
       "<style>#sk-f2884e03-f9fb-497b-b387-03fcf0b7da3a {color: black;background-color: white;}#sk-f2884e03-f9fb-497b-b387-03fcf0b7da3a pre{padding: 0;}#sk-f2884e03-f9fb-497b-b387-03fcf0b7da3a div.sk-toggleable {background-color: white;}#sk-f2884e03-f9fb-497b-b387-03fcf0b7da3a label.sk-toggleable__label {cursor: pointer;display: block;width: 100%;margin-bottom: 0;padding: 0.3em;box-sizing: border-box;text-align: center;}#sk-f2884e03-f9fb-497b-b387-03fcf0b7da3a label.sk-toggleable__label-arrow:before {content: \"▸\";float: left;margin-right: 0.25em;color: #696969;}#sk-f2884e03-f9fb-497b-b387-03fcf0b7da3a label.sk-toggleable__label-arrow:hover:before {color: black;}#sk-f2884e03-f9fb-497b-b387-03fcf0b7da3a div.sk-estimator:hover label.sk-toggleable__label-arrow:before {color: black;}#sk-f2884e03-f9fb-497b-b387-03fcf0b7da3a div.sk-toggleable__content {max-height: 0;max-width: 0;overflow: hidden;text-align: left;background-color: #f0f8ff;}#sk-f2884e03-f9fb-497b-b387-03fcf0b7da3a div.sk-toggleable__content pre {margin: 0.2em;color: black;border-radius: 0.25em;background-color: #f0f8ff;}#sk-f2884e03-f9fb-497b-b387-03fcf0b7da3a input.sk-toggleable__control:checked~div.sk-toggleable__content {max-height: 200px;max-width: 100%;overflow: auto;}#sk-f2884e03-f9fb-497b-b387-03fcf0b7da3a input.sk-toggleable__control:checked~label.sk-toggleable__label-arrow:before {content: \"▾\";}#sk-f2884e03-f9fb-497b-b387-03fcf0b7da3a div.sk-estimator input.sk-toggleable__control:checked~label.sk-toggleable__label {background-color: #d4ebff;}#sk-f2884e03-f9fb-497b-b387-03fcf0b7da3a div.sk-label input.sk-toggleable__control:checked~label.sk-toggleable__label {background-color: #d4ebff;}#sk-f2884e03-f9fb-497b-b387-03fcf0b7da3a input.sk-hidden--visually {border: 0;clip: rect(1px 1px 1px 1px);clip: rect(1px, 1px, 1px, 1px);height: 1px;margin: -1px;overflow: hidden;padding: 0;position: absolute;width: 1px;}#sk-f2884e03-f9fb-497b-b387-03fcf0b7da3a div.sk-estimator {font-family: monospace;background-color: #f0f8ff;border: 1px dotted black;border-radius: 0.25em;box-sizing: border-box;margin-bottom: 0.5em;}#sk-f2884e03-f9fb-497b-b387-03fcf0b7da3a div.sk-estimator:hover {background-color: #d4ebff;}#sk-f2884e03-f9fb-497b-b387-03fcf0b7da3a div.sk-parallel-item::after {content: \"\";width: 100%;border-bottom: 1px solid gray;flex-grow: 1;}#sk-f2884e03-f9fb-497b-b387-03fcf0b7da3a div.sk-label:hover label.sk-toggleable__label {background-color: #d4ebff;}#sk-f2884e03-f9fb-497b-b387-03fcf0b7da3a div.sk-serial::before {content: \"\";position: absolute;border-left: 1px solid gray;box-sizing: border-box;top: 2em;bottom: 0;left: 50%;}#sk-f2884e03-f9fb-497b-b387-03fcf0b7da3a div.sk-serial {display: flex;flex-direction: column;align-items: center;background-color: white;padding-right: 0.2em;padding-left: 0.2em;}#sk-f2884e03-f9fb-497b-b387-03fcf0b7da3a div.sk-item {z-index: 1;}#sk-f2884e03-f9fb-497b-b387-03fcf0b7da3a div.sk-parallel {display: flex;align-items: stretch;justify-content: center;background-color: white;}#sk-f2884e03-f9fb-497b-b387-03fcf0b7da3a div.sk-parallel::before {content: \"\";position: absolute;border-left: 1px solid gray;box-sizing: border-box;top: 2em;bottom: 0;left: 50%;}#sk-f2884e03-f9fb-497b-b387-03fcf0b7da3a div.sk-parallel-item {display: flex;flex-direction: column;position: relative;background-color: white;}#sk-f2884e03-f9fb-497b-b387-03fcf0b7da3a div.sk-parallel-item:first-child::after {align-self: flex-end;width: 50%;}#sk-f2884e03-f9fb-497b-b387-03fcf0b7da3a div.sk-parallel-item:last-child::after {align-self: flex-start;width: 50%;}#sk-f2884e03-f9fb-497b-b387-03fcf0b7da3a div.sk-parallel-item:only-child::after {width: 0;}#sk-f2884e03-f9fb-497b-b387-03fcf0b7da3a div.sk-dashed-wrapped {border: 1px dashed gray;margin: 0 0.4em 0.5em 0.4em;box-sizing: border-box;padding-bottom: 0.4em;background-color: white;position: relative;}#sk-f2884e03-f9fb-497b-b387-03fcf0b7da3a div.sk-label label {font-family: monospace;font-weight: bold;background-color: white;display: inline-block;line-height: 1.2em;}#sk-f2884e03-f9fb-497b-b387-03fcf0b7da3a div.sk-label-container {position: relative;z-index: 2;text-align: center;}#sk-f2884e03-f9fb-497b-b387-03fcf0b7da3a div.sk-container {/* jupyter's `normalize.less` sets `[hidden] { display: none; }` but bootstrap.min.css set `[hidden] { display: none !important; }` so we also need the `!important` here to be able to override the default hidden behavior on the sphinx rendered scikit-learn.org. See: https://github.com/scikit-learn/scikit-learn/issues/21755 */display: inline-block !important;position: relative;}#sk-f2884e03-f9fb-497b-b387-03fcf0b7da3a div.sk-text-repr-fallback {display: none;}</style><div id=\"sk-f2884e03-f9fb-497b-b387-03fcf0b7da3a\" class=\"sk-top-container\"><div class=\"sk-text-repr-fallback\"><pre>Pipeline(steps=[(&#x27;column_transformation&#x27;,\n",
       "                 ColumnTransformer(n_jobs=-1,\n",
       "                                   transformers=[(&#x27;contnues&#x27;,\n",
       "                                                  Pipeline(steps=[(&#x27;Roboust_scalar&#x27;,\n",
       "                                                                   RobustScaler()),\n",
       "                                                                  (&#x27;Yoe_johnson&#x27;,\n",
       "                                                                   PowerTransformer())]),\n",
       "                                                  [&#x27;total_bill&#x27;]),\n",
       "                                                 (&#x27;categorical_nominal&#x27;,\n",
       "                                                  Pipeline(steps=[(&#x27;ordinal&#x27;,\n",
       "                                                                   OneHotEncoder(drop=&#x27;first&#x27;))]),\n",
       "                                                  [&#x27;sex&#x27;, &#x27;time&#x27;, &#x27;day&#x27;]),\n",
       "                                                 (&#x27;categorical_ordinal&#x27;,\n",
       "                                                  Pipeline(steps=[(&#x27;ordinal&#x27;,\n",
       "                                                                   OrdinalEncoder())]),\n",
       "                                                  [&#x27;size&#x27;, &#x27;smoker&#x27;])])),\n",
       "                (&#x27;linear_regressor&#x27;, LinearRegression())])</pre><b>Please rerun this cell to show the HTML repr or trust the notebook.</b></div><div class=\"sk-container\" hidden><div class=\"sk-item sk-dashed-wrapped\"><div class=\"sk-label-container\"><div class=\"sk-label sk-toggleable\"><input class=\"sk-toggleable__control sk-hidden--visually\" id=\"fad574b7-2e45-44ea-be0e-8206569ec5d7\" type=\"checkbox\" ><label for=\"fad574b7-2e45-44ea-be0e-8206569ec5d7\" class=\"sk-toggleable__label sk-toggleable__label-arrow\">Pipeline</label><div class=\"sk-toggleable__content\"><pre>Pipeline(steps=[(&#x27;column_transformation&#x27;,\n",
       "                 ColumnTransformer(n_jobs=-1,\n",
       "                                   transformers=[(&#x27;contnues&#x27;,\n",
       "                                                  Pipeline(steps=[(&#x27;Roboust_scalar&#x27;,\n",
       "                                                                   RobustScaler()),\n",
       "                                                                  (&#x27;Yoe_johnson&#x27;,\n",
       "                                                                   PowerTransformer())]),\n",
       "                                                  [&#x27;total_bill&#x27;]),\n",
       "                                                 (&#x27;categorical_nominal&#x27;,\n",
       "                                                  Pipeline(steps=[(&#x27;ordinal&#x27;,\n",
       "                                                                   OneHotEncoder(drop=&#x27;first&#x27;))]),\n",
       "                                                  [&#x27;sex&#x27;, &#x27;time&#x27;, &#x27;day&#x27;]),\n",
       "                                                 (&#x27;categorical_ordinal&#x27;,\n",
       "                                                  Pipeline(steps=[(&#x27;ordinal&#x27;,\n",
       "                                                                   OrdinalEncoder())]),\n",
       "                                                  [&#x27;size&#x27;, &#x27;smoker&#x27;])])),\n",
       "                (&#x27;linear_regressor&#x27;, LinearRegression())])</pre></div></div></div><div class=\"sk-serial\"><div class=\"sk-item sk-dashed-wrapped\"><div class=\"sk-label-container\"><div class=\"sk-label sk-toggleable\"><input class=\"sk-toggleable__control sk-hidden--visually\" id=\"52977fe7-177d-4c90-be2c-ebafeb455fe1\" type=\"checkbox\" ><label for=\"52977fe7-177d-4c90-be2c-ebafeb455fe1\" class=\"sk-toggleable__label sk-toggleable__label-arrow\">column_transformation: ColumnTransformer</label><div class=\"sk-toggleable__content\"><pre>ColumnTransformer(n_jobs=-1,\n",
       "                  transformers=[(&#x27;contnues&#x27;,\n",
       "                                 Pipeline(steps=[(&#x27;Roboust_scalar&#x27;,\n",
       "                                                  RobustScaler()),\n",
       "                                                 (&#x27;Yoe_johnson&#x27;,\n",
       "                                                  PowerTransformer())]),\n",
       "                                 [&#x27;total_bill&#x27;]),\n",
       "                                (&#x27;categorical_nominal&#x27;,\n",
       "                                 Pipeline(steps=[(&#x27;ordinal&#x27;,\n",
       "                                                  OneHotEncoder(drop=&#x27;first&#x27;))]),\n",
       "                                 [&#x27;sex&#x27;, &#x27;time&#x27;, &#x27;day&#x27;]),\n",
       "                                (&#x27;categorical_ordinal&#x27;,\n",
       "                                 Pipeline(steps=[(&#x27;ordinal&#x27;,\n",
       "                                                  OrdinalEncoder())]),\n",
       "                                 [&#x27;size&#x27;, &#x27;smoker&#x27;])])</pre></div></div></div><div class=\"sk-parallel\"><div class=\"sk-parallel-item\"><div class=\"sk-item\"><div class=\"sk-label-container\"><div class=\"sk-label sk-toggleable\"><input class=\"sk-toggleable__control sk-hidden--visually\" id=\"34be2980-5395-4354-abe3-162ea3777a90\" type=\"checkbox\" ><label for=\"34be2980-5395-4354-abe3-162ea3777a90\" class=\"sk-toggleable__label sk-toggleable__label-arrow\">contnues</label><div class=\"sk-toggleable__content\"><pre>[&#x27;total_bill&#x27;]</pre></div></div></div><div class=\"sk-serial\"><div class=\"sk-item\"><div class=\"sk-serial\"><div class=\"sk-item\"><div class=\"sk-estimator sk-toggleable\"><input class=\"sk-toggleable__control sk-hidden--visually\" id=\"31fe6592-dc8e-40bc-9751-131e720ba22f\" type=\"checkbox\" ><label for=\"31fe6592-dc8e-40bc-9751-131e720ba22f\" class=\"sk-toggleable__label sk-toggleable__label-arrow\">RobustScaler</label><div class=\"sk-toggleable__content\"><pre>RobustScaler()</pre></div></div></div><div class=\"sk-item\"><div class=\"sk-estimator sk-toggleable\"><input class=\"sk-toggleable__control sk-hidden--visually\" id=\"494792bc-3597-45ae-8d98-85acb538b11a\" type=\"checkbox\" ><label for=\"494792bc-3597-45ae-8d98-85acb538b11a\" class=\"sk-toggleable__label sk-toggleable__label-arrow\">PowerTransformer</label><div class=\"sk-toggleable__content\"><pre>PowerTransformer()</pre></div></div></div></div></div></div></div></div><div class=\"sk-parallel-item\"><div class=\"sk-item\"><div class=\"sk-label-container\"><div class=\"sk-label sk-toggleable\"><input class=\"sk-toggleable__control sk-hidden--visually\" id=\"5ac31fbf-e7db-4c75-9cae-b5b95b660d73\" type=\"checkbox\" ><label for=\"5ac31fbf-e7db-4c75-9cae-b5b95b660d73\" class=\"sk-toggleable__label sk-toggleable__label-arrow\">categorical_nominal</label><div class=\"sk-toggleable__content\"><pre>[&#x27;sex&#x27;, &#x27;time&#x27;, &#x27;day&#x27;]</pre></div></div></div><div class=\"sk-serial\"><div class=\"sk-item\"><div class=\"sk-serial\"><div class=\"sk-item\"><div class=\"sk-estimator sk-toggleable\"><input class=\"sk-toggleable__control sk-hidden--visually\" id=\"ab1c64f2-04b4-457d-b558-b0012d4ef97f\" type=\"checkbox\" ><label for=\"ab1c64f2-04b4-457d-b558-b0012d4ef97f\" class=\"sk-toggleable__label sk-toggleable__label-arrow\">OneHotEncoder</label><div class=\"sk-toggleable__content\"><pre>OneHotEncoder(drop=&#x27;first&#x27;)</pre></div></div></div></div></div></div></div></div><div class=\"sk-parallel-item\"><div class=\"sk-item\"><div class=\"sk-label-container\"><div class=\"sk-label sk-toggleable\"><input class=\"sk-toggleable__control sk-hidden--visually\" id=\"aba915ef-a7c5-46ee-a468-448156be6ac6\" type=\"checkbox\" ><label for=\"aba915ef-a7c5-46ee-a468-448156be6ac6\" class=\"sk-toggleable__label sk-toggleable__label-arrow\">categorical_ordinal</label><div class=\"sk-toggleable__content\"><pre>[&#x27;size&#x27;, &#x27;smoker&#x27;]</pre></div></div></div><div class=\"sk-serial\"><div class=\"sk-item\"><div class=\"sk-serial\"><div class=\"sk-item\"><div class=\"sk-estimator sk-toggleable\"><input class=\"sk-toggleable__control sk-hidden--visually\" id=\"043e25fe-86da-4865-85f1-dd0620ac2161\" type=\"checkbox\" ><label for=\"043e25fe-86da-4865-85f1-dd0620ac2161\" class=\"sk-toggleable__label sk-toggleable__label-arrow\">OrdinalEncoder</label><div class=\"sk-toggleable__content\"><pre>OrdinalEncoder()</pre></div></div></div></div></div></div></div></div></div></div><div class=\"sk-item\"><div class=\"sk-estimator sk-toggleable\"><input class=\"sk-toggleable__control sk-hidden--visually\" id=\"e3954d24-5b83-4850-884a-0fdfacb66583\" type=\"checkbox\" ><label for=\"e3954d24-5b83-4850-884a-0fdfacb66583\" class=\"sk-toggleable__label sk-toggleable__label-arrow\">LinearRegression</label><div class=\"sk-toggleable__content\"><pre>LinearRegression()</pre></div></div></div></div></div></div></div>"
      ],
      "text/plain": [
       "Pipeline(steps=[('column_transformation',\n",
       "                 ColumnTransformer(n_jobs=-1,\n",
       "                                   transformers=[('contnues',\n",
       "                                                  Pipeline(steps=[('Roboust_scalar',\n",
       "                                                                   RobustScaler()),\n",
       "                                                                  ('Yoe_johnson',\n",
       "                                                                   PowerTransformer())]),\n",
       "                                                  ['total_bill']),\n",
       "                                                 ('categorical_nominal',\n",
       "                                                  Pipeline(steps=[('ordinal',\n",
       "                                                                   OneHotEncoder(drop='first'))]),\n",
       "                                                  ['sex', 'time', 'day']),\n",
       "                                                 ('categorical_ordinal',\n",
       "                                                  Pipeline(steps=[('ordinal',\n",
       "                                                                   OrdinalEncoder())]),\n",
       "                                                  ['size', 'smoker'])])),\n",
       "                ('linear_regressor', LinearRegression())])"
      ]
     },
     "metadata": {},
     "output_type": "display_data"
    }
   ],
   "source": [
    "display(linear_pipeline)"
   ]
  },
  {
   "cell_type": "code",
   "execution_count": 128,
   "id": "356a4559",
   "metadata": {},
   "outputs": [],
   "source": [
    "# spltinng the columns\n",
    "x = data[contCol+ordcatcol+norcatcol]\n",
    "y = data[target]"
   ]
  },
  {
   "cell_type": "code",
   "execution_count": 129,
   "id": "46bfd249",
   "metadata": {},
   "outputs": [],
   "source": [
    "# train test split\n",
    "xtrain,xtest,ytrain,ytest = train_test_split(x,y,test_size=0.32)"
   ]
  },
  {
   "cell_type": "code",
   "execution_count": 130,
   "id": "13f35128",
   "metadata": {},
   "outputs": [
    {
     "data": {
      "text/plain": [
       "((165, 6), (79, 6), 165, 79)"
      ]
     },
     "execution_count": 130,
     "metadata": {},
     "output_type": "execute_result"
    }
   ],
   "source": [
    "xtrain.shape,xtest.shape,len(ytrain),len(ytest)"
   ]
  },
  {
   "cell_type": "code",
   "execution_count": 131,
   "id": "a5e1a335",
   "metadata": {},
   "outputs": [
    {
     "data": {
      "text/html": [
       "<style>#sk-31924e6f-3617-4ec1-ba37-f8f448a39c91 {color: black;background-color: white;}#sk-31924e6f-3617-4ec1-ba37-f8f448a39c91 pre{padding: 0;}#sk-31924e6f-3617-4ec1-ba37-f8f448a39c91 div.sk-toggleable {background-color: white;}#sk-31924e6f-3617-4ec1-ba37-f8f448a39c91 label.sk-toggleable__label {cursor: pointer;display: block;width: 100%;margin-bottom: 0;padding: 0.3em;box-sizing: border-box;text-align: center;}#sk-31924e6f-3617-4ec1-ba37-f8f448a39c91 label.sk-toggleable__label-arrow:before {content: \"▸\";float: left;margin-right: 0.25em;color: #696969;}#sk-31924e6f-3617-4ec1-ba37-f8f448a39c91 label.sk-toggleable__label-arrow:hover:before {color: black;}#sk-31924e6f-3617-4ec1-ba37-f8f448a39c91 div.sk-estimator:hover label.sk-toggleable__label-arrow:before {color: black;}#sk-31924e6f-3617-4ec1-ba37-f8f448a39c91 div.sk-toggleable__content {max-height: 0;max-width: 0;overflow: hidden;text-align: left;background-color: #f0f8ff;}#sk-31924e6f-3617-4ec1-ba37-f8f448a39c91 div.sk-toggleable__content pre {margin: 0.2em;color: black;border-radius: 0.25em;background-color: #f0f8ff;}#sk-31924e6f-3617-4ec1-ba37-f8f448a39c91 input.sk-toggleable__control:checked~div.sk-toggleable__content {max-height: 200px;max-width: 100%;overflow: auto;}#sk-31924e6f-3617-4ec1-ba37-f8f448a39c91 input.sk-toggleable__control:checked~label.sk-toggleable__label-arrow:before {content: \"▾\";}#sk-31924e6f-3617-4ec1-ba37-f8f448a39c91 div.sk-estimator input.sk-toggleable__control:checked~label.sk-toggleable__label {background-color: #d4ebff;}#sk-31924e6f-3617-4ec1-ba37-f8f448a39c91 div.sk-label input.sk-toggleable__control:checked~label.sk-toggleable__label {background-color: #d4ebff;}#sk-31924e6f-3617-4ec1-ba37-f8f448a39c91 input.sk-hidden--visually {border: 0;clip: rect(1px 1px 1px 1px);clip: rect(1px, 1px, 1px, 1px);height: 1px;margin: -1px;overflow: hidden;padding: 0;position: absolute;width: 1px;}#sk-31924e6f-3617-4ec1-ba37-f8f448a39c91 div.sk-estimator {font-family: monospace;background-color: #f0f8ff;border: 1px dotted black;border-radius: 0.25em;box-sizing: border-box;margin-bottom: 0.5em;}#sk-31924e6f-3617-4ec1-ba37-f8f448a39c91 div.sk-estimator:hover {background-color: #d4ebff;}#sk-31924e6f-3617-4ec1-ba37-f8f448a39c91 div.sk-parallel-item::after {content: \"\";width: 100%;border-bottom: 1px solid gray;flex-grow: 1;}#sk-31924e6f-3617-4ec1-ba37-f8f448a39c91 div.sk-label:hover label.sk-toggleable__label {background-color: #d4ebff;}#sk-31924e6f-3617-4ec1-ba37-f8f448a39c91 div.sk-serial::before {content: \"\";position: absolute;border-left: 1px solid gray;box-sizing: border-box;top: 2em;bottom: 0;left: 50%;}#sk-31924e6f-3617-4ec1-ba37-f8f448a39c91 div.sk-serial {display: flex;flex-direction: column;align-items: center;background-color: white;padding-right: 0.2em;padding-left: 0.2em;}#sk-31924e6f-3617-4ec1-ba37-f8f448a39c91 div.sk-item {z-index: 1;}#sk-31924e6f-3617-4ec1-ba37-f8f448a39c91 div.sk-parallel {display: flex;align-items: stretch;justify-content: center;background-color: white;}#sk-31924e6f-3617-4ec1-ba37-f8f448a39c91 div.sk-parallel::before {content: \"\";position: absolute;border-left: 1px solid gray;box-sizing: border-box;top: 2em;bottom: 0;left: 50%;}#sk-31924e6f-3617-4ec1-ba37-f8f448a39c91 div.sk-parallel-item {display: flex;flex-direction: column;position: relative;background-color: white;}#sk-31924e6f-3617-4ec1-ba37-f8f448a39c91 div.sk-parallel-item:first-child::after {align-self: flex-end;width: 50%;}#sk-31924e6f-3617-4ec1-ba37-f8f448a39c91 div.sk-parallel-item:last-child::after {align-self: flex-start;width: 50%;}#sk-31924e6f-3617-4ec1-ba37-f8f448a39c91 div.sk-parallel-item:only-child::after {width: 0;}#sk-31924e6f-3617-4ec1-ba37-f8f448a39c91 div.sk-dashed-wrapped {border: 1px dashed gray;margin: 0 0.4em 0.5em 0.4em;box-sizing: border-box;padding-bottom: 0.4em;background-color: white;position: relative;}#sk-31924e6f-3617-4ec1-ba37-f8f448a39c91 div.sk-label label {font-family: monospace;font-weight: bold;background-color: white;display: inline-block;line-height: 1.2em;}#sk-31924e6f-3617-4ec1-ba37-f8f448a39c91 div.sk-label-container {position: relative;z-index: 2;text-align: center;}#sk-31924e6f-3617-4ec1-ba37-f8f448a39c91 div.sk-container {/* jupyter's `normalize.less` sets `[hidden] { display: none; }` but bootstrap.min.css set `[hidden] { display: none !important; }` so we also need the `!important` here to be able to override the default hidden behavior on the sphinx rendered scikit-learn.org. See: https://github.com/scikit-learn/scikit-learn/issues/21755 */display: inline-block !important;position: relative;}#sk-31924e6f-3617-4ec1-ba37-f8f448a39c91 div.sk-text-repr-fallback {display: none;}</style><div id=\"sk-31924e6f-3617-4ec1-ba37-f8f448a39c91\" class=\"sk-top-container\"><div class=\"sk-text-repr-fallback\"><pre>Pipeline(steps=[(&#x27;column_transformation&#x27;,\n",
       "                 ColumnTransformer(n_jobs=-1,\n",
       "                                   transformers=[(&#x27;contnues&#x27;,\n",
       "                                                  Pipeline(steps=[(&#x27;Roboust_scalar&#x27;,\n",
       "                                                                   RobustScaler()),\n",
       "                                                                  (&#x27;Yoe_johnson&#x27;,\n",
       "                                                                   PowerTransformer())]),\n",
       "                                                  [&#x27;total_bill&#x27;]),\n",
       "                                                 (&#x27;categorical_nominal&#x27;,\n",
       "                                                  Pipeline(steps=[(&#x27;ordinal&#x27;,\n",
       "                                                                   OneHotEncoder(drop=&#x27;first&#x27;))]),\n",
       "                                                  [&#x27;sex&#x27;, &#x27;time&#x27;, &#x27;day&#x27;]),\n",
       "                                                 (&#x27;categorical_ordinal&#x27;,\n",
       "                                                  Pipeline(steps=[(&#x27;ordinal&#x27;,\n",
       "                                                                   OrdinalEncoder())]),\n",
       "                                                  [&#x27;size&#x27;, &#x27;smoker&#x27;])])),\n",
       "                (&#x27;linear_regressor&#x27;, LinearRegression())])</pre><b>Please rerun this cell to show the HTML repr or trust the notebook.</b></div><div class=\"sk-container\" hidden><div class=\"sk-item sk-dashed-wrapped\"><div class=\"sk-label-container\"><div class=\"sk-label sk-toggleable\"><input class=\"sk-toggleable__control sk-hidden--visually\" id=\"b581d681-2f03-4ae2-a1b3-c61dcdfbb0e0\" type=\"checkbox\" ><label for=\"b581d681-2f03-4ae2-a1b3-c61dcdfbb0e0\" class=\"sk-toggleable__label sk-toggleable__label-arrow\">Pipeline</label><div class=\"sk-toggleable__content\"><pre>Pipeline(steps=[(&#x27;column_transformation&#x27;,\n",
       "                 ColumnTransformer(n_jobs=-1,\n",
       "                                   transformers=[(&#x27;contnues&#x27;,\n",
       "                                                  Pipeline(steps=[(&#x27;Roboust_scalar&#x27;,\n",
       "                                                                   RobustScaler()),\n",
       "                                                                  (&#x27;Yoe_johnson&#x27;,\n",
       "                                                                   PowerTransformer())]),\n",
       "                                                  [&#x27;total_bill&#x27;]),\n",
       "                                                 (&#x27;categorical_nominal&#x27;,\n",
       "                                                  Pipeline(steps=[(&#x27;ordinal&#x27;,\n",
       "                                                                   OneHotEncoder(drop=&#x27;first&#x27;))]),\n",
       "                                                  [&#x27;sex&#x27;, &#x27;time&#x27;, &#x27;day&#x27;]),\n",
       "                                                 (&#x27;categorical_ordinal&#x27;,\n",
       "                                                  Pipeline(steps=[(&#x27;ordinal&#x27;,\n",
       "                                                                   OrdinalEncoder())]),\n",
       "                                                  [&#x27;size&#x27;, &#x27;smoker&#x27;])])),\n",
       "                (&#x27;linear_regressor&#x27;, LinearRegression())])</pre></div></div></div><div class=\"sk-serial\"><div class=\"sk-item sk-dashed-wrapped\"><div class=\"sk-label-container\"><div class=\"sk-label sk-toggleable\"><input class=\"sk-toggleable__control sk-hidden--visually\" id=\"938d1ee6-bb1c-4cfb-bef6-a24bdd6b753a\" type=\"checkbox\" ><label for=\"938d1ee6-bb1c-4cfb-bef6-a24bdd6b753a\" class=\"sk-toggleable__label sk-toggleable__label-arrow\">column_transformation: ColumnTransformer</label><div class=\"sk-toggleable__content\"><pre>ColumnTransformer(n_jobs=-1,\n",
       "                  transformers=[(&#x27;contnues&#x27;,\n",
       "                                 Pipeline(steps=[(&#x27;Roboust_scalar&#x27;,\n",
       "                                                  RobustScaler()),\n",
       "                                                 (&#x27;Yoe_johnson&#x27;,\n",
       "                                                  PowerTransformer())]),\n",
       "                                 [&#x27;total_bill&#x27;]),\n",
       "                                (&#x27;categorical_nominal&#x27;,\n",
       "                                 Pipeline(steps=[(&#x27;ordinal&#x27;,\n",
       "                                                  OneHotEncoder(drop=&#x27;first&#x27;))]),\n",
       "                                 [&#x27;sex&#x27;, &#x27;time&#x27;, &#x27;day&#x27;]),\n",
       "                                (&#x27;categorical_ordinal&#x27;,\n",
       "                                 Pipeline(steps=[(&#x27;ordinal&#x27;,\n",
       "                                                  OrdinalEncoder())]),\n",
       "                                 [&#x27;size&#x27;, &#x27;smoker&#x27;])])</pre></div></div></div><div class=\"sk-parallel\"><div class=\"sk-parallel-item\"><div class=\"sk-item\"><div class=\"sk-label-container\"><div class=\"sk-label sk-toggleable\"><input class=\"sk-toggleable__control sk-hidden--visually\" id=\"8a2f76b7-a4fc-4208-8e29-49d5c8492266\" type=\"checkbox\" ><label for=\"8a2f76b7-a4fc-4208-8e29-49d5c8492266\" class=\"sk-toggleable__label sk-toggleable__label-arrow\">contnues</label><div class=\"sk-toggleable__content\"><pre>[&#x27;total_bill&#x27;]</pre></div></div></div><div class=\"sk-serial\"><div class=\"sk-item\"><div class=\"sk-serial\"><div class=\"sk-item\"><div class=\"sk-estimator sk-toggleable\"><input class=\"sk-toggleable__control sk-hidden--visually\" id=\"b050e703-6b6b-4682-960e-1ee5a7d149f1\" type=\"checkbox\" ><label for=\"b050e703-6b6b-4682-960e-1ee5a7d149f1\" class=\"sk-toggleable__label sk-toggleable__label-arrow\">RobustScaler</label><div class=\"sk-toggleable__content\"><pre>RobustScaler()</pre></div></div></div><div class=\"sk-item\"><div class=\"sk-estimator sk-toggleable\"><input class=\"sk-toggleable__control sk-hidden--visually\" id=\"5062d769-a3e8-4f77-a5d4-0c59f92799a0\" type=\"checkbox\" ><label for=\"5062d769-a3e8-4f77-a5d4-0c59f92799a0\" class=\"sk-toggleable__label sk-toggleable__label-arrow\">PowerTransformer</label><div class=\"sk-toggleable__content\"><pre>PowerTransformer()</pre></div></div></div></div></div></div></div></div><div class=\"sk-parallel-item\"><div class=\"sk-item\"><div class=\"sk-label-container\"><div class=\"sk-label sk-toggleable\"><input class=\"sk-toggleable__control sk-hidden--visually\" id=\"873168a7-da3b-4a9b-891d-1434a896cad4\" type=\"checkbox\" ><label for=\"873168a7-da3b-4a9b-891d-1434a896cad4\" class=\"sk-toggleable__label sk-toggleable__label-arrow\">categorical_nominal</label><div class=\"sk-toggleable__content\"><pre>[&#x27;sex&#x27;, &#x27;time&#x27;, &#x27;day&#x27;]</pre></div></div></div><div class=\"sk-serial\"><div class=\"sk-item\"><div class=\"sk-serial\"><div class=\"sk-item\"><div class=\"sk-estimator sk-toggleable\"><input class=\"sk-toggleable__control sk-hidden--visually\" id=\"a8eb5a07-c9ba-46e9-a801-e02c134fb7b2\" type=\"checkbox\" ><label for=\"a8eb5a07-c9ba-46e9-a801-e02c134fb7b2\" class=\"sk-toggleable__label sk-toggleable__label-arrow\">OneHotEncoder</label><div class=\"sk-toggleable__content\"><pre>OneHotEncoder(drop=&#x27;first&#x27;)</pre></div></div></div></div></div></div></div></div><div class=\"sk-parallel-item\"><div class=\"sk-item\"><div class=\"sk-label-container\"><div class=\"sk-label sk-toggleable\"><input class=\"sk-toggleable__control sk-hidden--visually\" id=\"b6a22504-7f5e-4a2b-a1d1-fc6e5ceedb5f\" type=\"checkbox\" ><label for=\"b6a22504-7f5e-4a2b-a1d1-fc6e5ceedb5f\" class=\"sk-toggleable__label sk-toggleable__label-arrow\">categorical_ordinal</label><div class=\"sk-toggleable__content\"><pre>[&#x27;size&#x27;, &#x27;smoker&#x27;]</pre></div></div></div><div class=\"sk-serial\"><div class=\"sk-item\"><div class=\"sk-serial\"><div class=\"sk-item\"><div class=\"sk-estimator sk-toggleable\"><input class=\"sk-toggleable__control sk-hidden--visually\" id=\"963d366a-c9bf-4604-8809-efbd075e7fae\" type=\"checkbox\" ><label for=\"963d366a-c9bf-4604-8809-efbd075e7fae\" class=\"sk-toggleable__label sk-toggleable__label-arrow\">OrdinalEncoder</label><div class=\"sk-toggleable__content\"><pre>OrdinalEncoder()</pre></div></div></div></div></div></div></div></div></div></div><div class=\"sk-item\"><div class=\"sk-estimator sk-toggleable\"><input class=\"sk-toggleable__control sk-hidden--visually\" id=\"0867cce2-c675-4d56-851b-f8726ea47334\" type=\"checkbox\" ><label for=\"0867cce2-c675-4d56-851b-f8726ea47334\" class=\"sk-toggleable__label sk-toggleable__label-arrow\">LinearRegression</label><div class=\"sk-toggleable__content\"><pre>LinearRegression()</pre></div></div></div></div></div></div></div>"
      ],
      "text/plain": [
       "Pipeline(steps=[('column_transformation',\n",
       "                 ColumnTransformer(n_jobs=-1,\n",
       "                                   transformers=[('contnues',\n",
       "                                                  Pipeline(steps=[('Roboust_scalar',\n",
       "                                                                   RobustScaler()),\n",
       "                                                                  ('Yoe_johnson',\n",
       "                                                                   PowerTransformer())]),\n",
       "                                                  ['total_bill']),\n",
       "                                                 ('categorical_nominal',\n",
       "                                                  Pipeline(steps=[('ordinal',\n",
       "                                                                   OneHotEncoder(drop='first'))]),\n",
       "                                                  ['sex', 'time', 'day']),\n",
       "                                                 ('categorical_ordinal',\n",
       "                                                  Pipeline(steps=[('ordinal',\n",
       "                                                                   OrdinalEncoder())]),\n",
       "                                                  ['size', 'smoker'])])),\n",
       "                ('linear_regressor', LinearRegression())])"
      ]
     },
     "execution_count": 131,
     "metadata": {},
     "output_type": "execute_result"
    }
   ],
   "source": [
    "linear_pipeline.fit(xtrain,ytrain)"
   ]
  },
  {
   "cell_type": "code",
   "execution_count": 133,
   "id": "ea1b2f4b",
   "metadata": {},
   "outputs": [],
   "source": [
    "ytrainpred = linear_pipeline.predict(xtrain)"
   ]
  },
  {
   "cell_type": "code",
   "execution_count": 134,
   "id": "de88bfa8",
   "metadata": {},
   "outputs": [],
   "source": [
    "ytestpred = linear_pipeline.predict(xtest)"
   ]
  },
  {
   "cell_type": "code",
   "execution_count": 135,
   "id": "3de27f84",
   "metadata": {},
   "outputs": [
    {
     "data": {
      "text/plain": [
       "0.7274793380302202"
      ]
     },
     "execution_count": 135,
     "metadata": {},
     "output_type": "execute_result"
    }
   ],
   "source": [
    "from sklearn.metrics import mean_squared_error\n",
    "mean_squared_error(ytrain, ytrainpred)"
   ]
  },
  {
   "cell_type": "code",
   "execution_count": 136,
   "id": "930156ed",
   "metadata": {},
   "outputs": [
    {
     "data": {
      "text/plain": [
       "1.817790623709665"
      ]
     },
     "execution_count": 136,
     "metadata": {},
     "output_type": "execute_result"
    }
   ],
   "source": [
    "mean_squared_error(ytest, ytestpred)"
   ]
  },
  {
   "cell_type": "code",
   "execution_count": 139,
   "id": "68cb7175",
   "metadata": {},
   "outputs": [
    {
     "data": {
      "text/plain": [
       "0.5614313694574591"
      ]
     },
     "execution_count": 139,
     "metadata": {},
     "output_type": "execute_result"
    }
   ],
   "source": [
    "from sklearn.metrics import r2_score\n",
    "\n",
    "r2_score(ytrain, ytrainpred)\n"
   ]
  },
  {
   "cell_type": "code",
   "execution_count": 140,
   "id": "405efaa4",
   "metadata": {},
   "outputs": [
    {
     "data": {
      "text/plain": [
       "0.24980343945658956"
      ]
     },
     "execution_count": 140,
     "metadata": {},
     "output_type": "execute_result"
    }
   ],
   "source": [
    "r2_score(ytest, ytestpred)"
   ]
  },
  {
   "cell_type": "code",
   "execution_count": null,
   "id": "455829a8",
   "metadata": {},
   "outputs": [],
   "source": []
  }
 ],
 "metadata": {
  "kernelspec": {
   "display_name": "Python 3 (ipykernel)",
   "language": "python",
   "name": "python3"
  },
  "language_info": {
   "codemirror_mode": {
    "name": "ipython",
    "version": 3
   },
   "file_extension": ".py",
   "mimetype": "text/x-python",
   "name": "python",
   "nbconvert_exporter": "python",
   "pygments_lexer": "ipython3",
   "version": "3.9.13"
  }
 },
 "nbformat": 4,
 "nbformat_minor": 5
}
